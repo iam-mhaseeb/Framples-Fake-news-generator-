{
  "nbformat": 4,
  "nbformat_minor": 0,
  "metadata": {
    "colab": {
      "name": "Fake News Generator.ipynb",
      "version": "0.3.2",
      "provenance": [],
      "toc_visible": true,
      "include_colab_link": true
    },
    "kernelspec": {
      "name": "python3",
      "display_name": "Python 3"
    }
  },
  "cells": [
    {
      "cell_type": "markdown",
      "metadata": {
        "id": "view-in-github",
        "colab_type": "text"
      },
      "source": [
        "<a href=\"https://colab.research.google.com/github/iam-mhaseeb/Framples-Fake-news-generator-/blob/master/Fake_News_Generator.ipynb\" target=\"_parent\"><img src=\"https://colab.research.google.com/assets/colab-badge.svg\" alt=\"Open In Colab\"/></a>"
      ]
    },
    {
      "cell_type": "markdown",
      "metadata": {
        "id": "nIY4SyTMZVAt",
        "colab_type": "text"
      },
      "source": [
        "# Dependencies"
      ]
    },
    {
      "cell_type": "code",
      "metadata": {
        "id": "zjXIVcWIYg5o",
        "colab_type": "code",
        "colab": {
          "base_uri": "https://localhost:8080/",
          "height": 986
        },
        "outputId": "36ae29a1-add1-4091-a352-4f4382111ddf"
      },
      "source": [
        "!pip install textgenrnn\n",
        "!pip install newspaper3k"
      ],
      "execution_count": 1,
      "outputs": [
        {
          "output_type": "stream",
          "text": [
            "Requirement already satisfied: textgenrnn in /usr/local/lib/python3.6/dist-packages (1.4.1)\n",
            "Requirement already satisfied: keras>=2.1.5 in /usr/local/lib/python3.6/dist-packages (from textgenrnn) (2.2.4)\n",
            "Requirement already satisfied: scikit-learn in /usr/local/lib/python3.6/dist-packages (from textgenrnn) (0.21.2)\n",
            "Requirement already satisfied: h5py in /usr/local/lib/python3.6/dist-packages (from textgenrnn) (2.8.0)\n",
            "Requirement already satisfied: keras-applications>=1.0.6 in /usr/local/lib/python3.6/dist-packages (from keras>=2.1.5->textgenrnn) (1.0.8)\n",
            "Requirement already satisfied: numpy>=1.9.1 in /usr/local/lib/python3.6/dist-packages (from keras>=2.1.5->textgenrnn) (1.16.4)\n",
            "Requirement already satisfied: pyyaml in /usr/local/lib/python3.6/dist-packages (from keras>=2.1.5->textgenrnn) (3.13)\n",
            "Requirement already satisfied: six>=1.9.0 in /usr/local/lib/python3.6/dist-packages (from keras>=2.1.5->textgenrnn) (1.12.0)\n",
            "Requirement already satisfied: scipy>=0.14 in /usr/local/lib/python3.6/dist-packages (from keras>=2.1.5->textgenrnn) (1.3.0)\n",
            "Requirement already satisfied: keras-preprocessing>=1.0.5 in /usr/local/lib/python3.6/dist-packages (from keras>=2.1.5->textgenrnn) (1.1.0)\n",
            "Requirement already satisfied: joblib>=0.11 in /usr/local/lib/python3.6/dist-packages (from scikit-learn->textgenrnn) (0.13.2)\n",
            "Collecting newspaper3k\n",
            "\u001b[?25l  Downloading https://files.pythonhosted.org/packages/d7/b9/51afecb35bb61b188a4b44868001de348a0e8134b4dfa00ffc191567c4b9/newspaper3k-0.2.8-py3-none-any.whl (211kB)\n",
            "\u001b[K     |████████████████████████████████| 215kB 2.9MB/s \n",
            "\u001b[?25hCollecting tinysegmenter==0.3 (from newspaper3k)\n",
            "  Downloading https://files.pythonhosted.org/packages/17/82/86982e4b6d16e4febc79c2a1d68ee3b707e8a020c5d2bc4af8052d0f136a/tinysegmenter-0.3.tar.gz\n",
            "Requirement already satisfied: lxml>=3.6.0 in /usr/local/lib/python3.6/dist-packages (from newspaper3k) (4.2.6)\n",
            "Collecting feedfinder2>=0.0.4 (from newspaper3k)\n",
            "  Downloading https://files.pythonhosted.org/packages/35/82/1251fefec3bb4b03fd966c7e7f7a41c9fc2bb00d823a34c13f847fd61406/feedfinder2-0.0.4.tar.gz\n",
            "Requirement already satisfied: PyYAML>=3.11 in /usr/local/lib/python3.6/dist-packages (from newspaper3k) (3.13)\n",
            "Requirement already satisfied: nltk>=3.2.1 in /usr/local/lib/python3.6/dist-packages (from newspaper3k) (3.2.5)\n",
            "Collecting cssselect>=0.9.2 (from newspaper3k)\n",
            "  Downloading https://files.pythonhosted.org/packages/7b/44/25b7283e50585f0b4156960691d951b05d061abf4a714078393e51929b30/cssselect-1.0.3-py2.py3-none-any.whl\n",
            "Collecting jieba3k>=0.35.1 (from newspaper3k)\n",
            "\u001b[?25l  Downloading https://files.pythonhosted.org/packages/a9/cb/2c8332bcdc14d33b0bedd18ae0a4981a069c3513e445120da3c3f23a8aaa/jieba3k-0.35.1.zip (7.4MB)\n",
            "\u001b[K     |████████████████████████████████| 7.4MB 38.4MB/s \n",
            "\u001b[?25hRequirement already satisfied: requests>=2.10.0 in /usr/local/lib/python3.6/dist-packages (from newspaper3k) (2.21.0)\n",
            "Requirement already satisfied: python-dateutil>=2.5.3 in /usr/local/lib/python3.6/dist-packages (from newspaper3k) (2.5.3)\n",
            "Collecting feedparser>=5.2.1 (from newspaper3k)\n",
            "\u001b[?25l  Downloading https://files.pythonhosted.org/packages/91/d8/7d37fec71ff7c9dbcdd80d2b48bcdd86d6af502156fc93846fb0102cb2c4/feedparser-5.2.1.tar.bz2 (192kB)\n",
            "\u001b[K     |████████████████████████████████| 194kB 40.1MB/s \n",
            "\u001b[?25hRequirement already satisfied: Pillow>=3.3.0 in /usr/local/lib/python3.6/dist-packages (from newspaper3k) (4.3.0)\n",
            "Collecting tldextract>=2.0.1 (from newspaper3k)\n",
            "\u001b[?25l  Downloading https://files.pythonhosted.org/packages/1e/90/18ac0e5340b6228c25cc8e79835c3811e7553b2b9ae87296dfeb62b7866d/tldextract-2.2.1-py2.py3-none-any.whl (48kB)\n",
            "\u001b[K     |████████████████████████████████| 51kB 19.2MB/s \n",
            "\u001b[?25hRequirement already satisfied: beautifulsoup4>=4.4.1 in /usr/local/lib/python3.6/dist-packages (from newspaper3k) (4.6.3)\n",
            "Requirement already satisfied: six in /usr/local/lib/python3.6/dist-packages (from feedfinder2>=0.0.4->newspaper3k) (1.12.0)\n",
            "Requirement already satisfied: certifi>=2017.4.17 in /usr/local/lib/python3.6/dist-packages (from requests>=2.10.0->newspaper3k) (2019.6.16)\n",
            "Requirement already satisfied: chardet<3.1.0,>=3.0.2 in /usr/local/lib/python3.6/dist-packages (from requests>=2.10.0->newspaper3k) (3.0.4)\n",
            "Requirement already satisfied: idna<2.9,>=2.5 in /usr/local/lib/python3.6/dist-packages (from requests>=2.10.0->newspaper3k) (2.8)\n",
            "Requirement already satisfied: urllib3<1.25,>=1.21.1 in /usr/local/lib/python3.6/dist-packages (from requests>=2.10.0->newspaper3k) (1.24.3)\n",
            "Requirement already satisfied: olefile in /usr/local/lib/python3.6/dist-packages (from Pillow>=3.3.0->newspaper3k) (0.46)\n",
            "Collecting requests-file>=1.4 (from tldextract>=2.0.1->newspaper3k)\n",
            "  Downloading https://files.pythonhosted.org/packages/23/9c/6e63c23c39e53d3df41c77a3d05a49a42c4e1383a6d2a5e3233161b89dbf/requests_file-1.4.3-py2.py3-none-any.whl\n",
            "Requirement already satisfied: setuptools in /usr/local/lib/python3.6/dist-packages (from tldextract>=2.0.1->newspaper3k) (41.0.1)\n",
            "Building wheels for collected packages: tinysegmenter, feedfinder2, jieba3k, feedparser\n",
            "  Building wheel for tinysegmenter (setup.py) ... \u001b[?25l\u001b[?25hdone\n",
            "  Stored in directory: /root/.cache/pip/wheels/81/2b/43/a02ede72324dd40cdd7ca53aad718c7710628e91b8b0dc0f02\n",
            "  Building wheel for feedfinder2 (setup.py) ... \u001b[?25l\u001b[?25hdone\n",
            "  Stored in directory: /root/.cache/pip/wheels/de/03/ca/778e3a7a627e3d98836cc890e7cb40c7575424cfd3340f40ed\n",
            "  Building wheel for jieba3k (setup.py) ... \u001b[?25l\u001b[?25hdone\n",
            "  Stored in directory: /root/.cache/pip/wheels/83/15/9c/a3f1f67e7f7181170ad37d32e503c35da20627c013f438ed34\n",
            "  Building wheel for feedparser (setup.py) ... \u001b[?25l\u001b[?25hdone\n",
            "  Stored in directory: /root/.cache/pip/wheels/8c/69/b7/f52763c41c5471df57703a0ef718a32a5e81ee35dcf6d4f97f\n",
            "Successfully built tinysegmenter feedfinder2 jieba3k feedparser\n",
            "Installing collected packages: tinysegmenter, feedfinder2, cssselect, jieba3k, feedparser, requests-file, tldextract, newspaper3k\n",
            "Successfully installed cssselect-1.0.3 feedfinder2-0.0.4 feedparser-5.2.1 jieba3k-0.35.1 newspaper3k-0.2.8 requests-file-1.4.3 tinysegmenter-0.3 tldextract-2.2.1\n"
          ],
          "name": "stdout"
        }
      ]
    },
    {
      "cell_type": "code",
      "metadata": {
        "id": "Z7wmluDTZY7s",
        "colab_type": "code",
        "colab": {
          "base_uri": "https://localhost:8080/",
          "height": 34
        },
        "outputId": "0d7a981d-f15a-405f-bb64-13cdfdcb90aa"
      },
      "source": [
        "from newspaper import Article\n",
        "from textgenrnn import textgenrnn"
      ],
      "execution_count": 2,
      "outputs": [
        {
          "output_type": "stream",
          "text": [
            "Using TensorFlow backend.\n"
          ],
          "name": "stderr"
        }
      ]
    },
    {
      "cell_type": "markdown",
      "metadata": {
        "id": "wp5CRTQ1aHfJ",
        "colab_type": "text"
      },
      "source": [
        "# Build Dataset for Trainning"
      ]
    },
    {
      "cell_type": "code",
      "metadata": {
        "id": "L6ol_PYeaMG9",
        "colab_type": "code",
        "colab": {}
      },
      "source": [
        "urls = ['https://tribune.com.pk/story/2018204/3-iran-warns-uk-escalating-tensions-says-crew-seized-ship-safe/',\n",
        "        'https://www.bbc.com/news/uk-49061675',\n",
        "        'https://www.dawn.com/news/1495360',\n",
        "        'https://www.theguardian.com/commentisfree/2019/jul/20/new-pm-take-note-iran-crisis-could-escalate-into-war',\n",
        "        'https://www.telegraph.co.uk/opinion/2019/07/21/make-no-excuses-iran-pure-piracy/']"
      ],
      "execution_count": 0,
      "outputs": []
    },
    {
      "cell_type": "code",
      "metadata": {
        "id": "DYW3IJnLa7GU",
        "colab_type": "code",
        "colab": {
          "base_uri": "https://localhost:8080/",
          "height": 34
        },
        "outputId": "b0b1b47f-b028-4a1f-e2dc-cc5ab25d01ed"
      },
      "source": [
        "articles = []\n",
        "\n",
        "for url in urls:\n",
        "  articles.append(Article(url))\n",
        "\n",
        "for article in articles:\n",
        "  article.download()\n",
        "print('Articles downloaded successfully.')"
      ],
      "execution_count": 16,
      "outputs": [
        {
          "output_type": "stream",
          "text": [
            "Articles downloaded successfully.\n"
          ],
          "name": "stdout"
        }
      ]
    },
    {
      "cell_type": "code",
      "metadata": {
        "id": "oAuT1VnPbGDF",
        "colab_type": "code",
        "colab": {
          "base_uri": "https://localhost:8080/",
          "height": 34
        },
        "outputId": "f4c970eb-46b5-403c-e1b5-9c693b703e12"
      },
      "source": [
        "with open('articles.txt', 'w+') as f:\n",
        "  for article in articles:\n",
        "    article.parse()\n",
        "    f.write('{}\\n'.format(article.text))\n",
        "print('Articles.txt generated successfully with dataset.')"
      ],
      "execution_count": 17,
      "outputs": [
        {
          "output_type": "stream",
          "text": [
            "Articles.txt generated successfully with dataset.\n"
          ],
          "name": "stdout"
        }
      ]
    },
    {
      "cell_type": "markdown",
      "metadata": {
        "id": "kBSy4ZcYdJAK",
        "colab_type": "text"
      },
      "source": [
        "# Trainning Model"
      ]
    },
    {
      "cell_type": "code",
      "metadata": {
        "id": "uX6hTr8gdLqj",
        "colab_type": "code",
        "colab": {
          "base_uri": "https://localhost:8080/",
          "height": 1000
        },
        "outputId": "745d9223-d1c7-4d56-d0c8-494727a2ddf0"
      },
      "source": [
        "textgen = textgenrnn()\n",
        "textgen.train_from_file('articles.txt', num_epochs=5)"
      ],
      "execution_count": 28,
      "outputs": [
        {
          "output_type": "stream",
          "text": [
            "280 texts collected.\n",
            "Training on 20,644 character sequences.\n",
            "Epoch 1/5\n",
            "161/161 [==============================] - 43s 268ms/step - loss: 1.6986\n",
            "####################\n",
            "Temperature: 0.2\n",
            "####################\n",
            "\n",
            "\n",
            "\n",
            "\n",
            "\n",
            "\n",
            "####################\n",
            "Temperature: 0.5\n",
            "####################\n",
            "\n",
            "\n",
            "\n",
            "\n",
            "\n",
            "\n",
            "####################\n",
            "Temperature: 1.0\n",
            "####################\n",
            "\n",
            "\n",
            "Martare of decalyments to the UK vessellirl Iranical accessive that of the scission to ware deith quent war.\n",
            "\n",
            "\n",
            "\n",
            "Epoch 2/5\n",
            "161/161 [==============================] - 42s 258ms/step - loss: 1.2445\n",
            "####################\n",
            "Temperature: 0.2\n",
            "####################\n",
            "\n",
            "\n",
            "\n",
            "\n",
            "\n",
            "\n",
            "####################\n",
            "Temperature: 0.5\n",
            "####################\n",
            "\n",
            "\n",
            "\n",
            "\n",
            "\n",
            "\n",
            "####################\n",
            "Temperature: 1.0\n",
            "####################\n",
            "H-Modather But being a seizure on Eurry, and inside obatted the \"exercident\" in conducter sales action ever:)\n",
            "\n",
            "\n",
            "\n",
            "Horch Millicy depressions and must afoag it roast trips safe in Sance Airr,” Sky Dirly, and Euror is nucozed by condigations.\n",
            "\n",
            "Epoch 3/5\n",
            "161/161 [==============================] - 42s 259ms/step - loss: 1.0672\n",
            "####################\n",
            "Temperature: 0.2\n",
            "####################\n",
            "\n",
            "\n",
            "\n",
            "\n",
            "\n",
            "\n",
            "####################\n",
            "Temperature: 0.5\n",
            "####################\n",
            "\n",
            "\n",
            "“All of a region in the port of all the security of a than the region to the enoration to the Gulf.\n",
            "\n",
            "It cannot release the Stena Impero - Britain’s the UK seized a near and that the resonged multinational maritime and that he is impossible.\n",
            "\n",
            "####################\n",
            "Temperature: 1.0\n",
            "####################\n",
            "Lab of Medal. Indeetspeast its other nation. road the tonsion have said a failure to seize it was fully and thought a expired and the imposting,” his do but we have oiled called for allowical oil to mean to active a bigh.. It forehmatic breachs to escalatory usunly would ask.\n",
            "\n",
            "\n",
            "\n",
            "Allowing poor is walk union with request Imaft on Jedio, Iran, and that has comedy.\n",
            "\n",
            "Epoch 4/5\n",
            "161/161 [==============================] - 42s 258ms/step - loss: 0.9416\n",
            "####################\n",
            "Temperature: 0.2\n",
            "####################\n",
            "\n",
            "\n",
            "\n",
            "\n",
            "\n",
            "\n",
            "####################\n",
            "Temperature: 0.5\n",
            "####################\n",
            "“The ship of the control of the show of the serious and the UK should be released by Iranian control of the but Iran’s Russian said.\n",
            "\n",
            "\n",
            "\n",
            "\n",
            "\n",
            "####################\n",
            "Temperature: 1.0\n",
            "####################\n",
            "\n",
            "\n",
            "Firm penince inteelant Tehran's show, and islam into being releeant for the Donald Trudius Revolutionary Guard armed Complicated - Iranian Jeremy Navobility As “Any intendus to US detailing at the course, disable themepital trite in the region.\n",
            "\n",
            "\n",
            "\n",
            "Epoch 5/5\n",
            "161/161 [==============================] - 42s 260ms/step - loss: 0.8414\n",
            "####################\n",
            "Temperature: 0.2\n",
            "####################\n",
            "\n",
            "\n",
            "\n",
            "\n",
            "\n",
            "\n",
            "####################\n",
            "Temperature: 0.5\n",
            "####################\n",
            "\n",
            "\n",
            "\n",
            "\n",
            "\n",
            "\n",
            "####################\n",
            "Temperature: 1.0\n",
            "####################\n",
            "\n",
            "\n",
            "\n",
            "\n",
            "•ardquised Alland shaduad markings and g in them will be seen to electnbowed the second indress.\n",
            "\n"
          ],
          "name": "stdout"
        }
      ]
    },
    {
      "cell_type": "code",
      "metadata": {
        "id": "hUgU4Sx9eIRh",
        "colab_type": "code",
        "colab": {
          "base_uri": "https://localhost:8080/",
          "height": 71
        },
        "outputId": "07638e29-d118-42b4-8e4a-0b46b5951ceb"
      },
      "source": [
        "textgen.generate(1, temperature=1.0)"
      ],
      "execution_count": 39,
      "outputs": [
        {
          "output_type": "stream",
          "text": [
            "Books so resprianate its rides a try want to talk to Russia, Corpoit,” The Iranians development aboard this poore crew a bam was already crew scenario, between Iran dangered a then responded in #Omans, it cake with the Stena Impero was at the UK not Iran, “Stray through interest inclufily failing \n",
            "\n"
          ],
          "name": "stdout"
        }
      ]
    }
  ]
}